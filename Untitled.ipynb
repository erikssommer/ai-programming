{
 "cells": [
  {
   "cell_type": "code",
   "execution_count": 1,
   "id": "c6bfc98b",
   "metadata": {},
   "outputs": [],
   "source": [
    "import numpy as np"
   ]
  },
  {
   "cell_type": "code",
   "execution_count": 6,
   "id": "edd4e538",
   "metadata": {},
   "outputs": [],
   "source": [
    "indices = range(10)\n",
    "p=[0.1, 0.2, 0.1, 0.1, 0.1, 0.1, 0.1, 0.1, 0.1, 0.0]"
   ]
  },
  {
   "cell_type": "code",
   "execution_count": 8,
   "id": "2f48ea9e",
   "metadata": {},
   "outputs": [],
   "source": [
    "for _ in range(10000000):\n",
    "    index = np.random.choice(indices, 1, p=p)[0]\n",
    "    \n",
    "    if indices[index] == 9:\n",
    "        raise Exception(\"error\")\n",
    "    "
   ]
  },
  {
   "cell_type": "code",
   "execution_count": null,
   "id": "a990f1a8",
   "metadata": {},
   "outputs": [],
   "source": []
  }
 ],
 "metadata": {
  "kernelspec": {
   "display_name": "Python 3 (ipykernel)",
   "language": "python",
   "name": "python3"
  },
  "language_info": {
   "codemirror_mode": {
    "name": "ipython",
    "version": 3
   },
   "file_extension": ".py",
   "mimetype": "text/x-python",
   "name": "python",
   "nbconvert_exporter": "python",
   "pygments_lexer": "ipython3",
   "version": "3.8.13"
  }
 },
 "nbformat": 4,
 "nbformat_minor": 5
}
